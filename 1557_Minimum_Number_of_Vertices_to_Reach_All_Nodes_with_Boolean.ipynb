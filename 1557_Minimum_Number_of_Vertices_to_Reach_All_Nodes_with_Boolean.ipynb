{
  "nbformat": 4,
  "nbformat_minor": 0,
  "metadata": {
    "colab": {
      "name": "1557. Minimum Number of Vertices to Reach All Nodes with Boolean.ipynb",
      "provenance": [],
      "collapsed_sections": [],
      "authorship_tag": "ABX9TyOJ2sxEilUx4IHGVaps92QQ",
      "include_colab_link": true
    },
    "kernelspec": {
      "name": "python3",
      "display_name": "Python 3"
    },
    "language_info": {
      "name": "python"
    }
  },
  "cells": [
    {
      "cell_type": "markdown",
      "metadata": {
        "id": "view-in-github",
        "colab_type": "text"
      },
      "source": [
        "<a href=\"https://colab.research.google.com/github/yashirmehmood/HashTablesLeetCode/blob/main/1557_Minimum_Number_of_Vertices_to_Reach_All_Nodes_with_Boolean.ipynb\" target=\"_parent\"><img src=\"https://colab.research.google.com/assets/colab-badge.svg\" alt=\"Open In Colab\"/></a>"
      ]
    },
    {
      "cell_type": "code",
      "metadata": {
        "id": "1nHzbKADFFXy",
        "colab": {
          "base_uri": "https://localhost:8080/"
        },
        "outputId": "9539c6dc-5db2-4169-d98b-4b40c7a553de"
      },
      "source": [
        "#============== 1557. Minimum Number of Vertices to Reach All Nodes ========\n",
        "# Method 2 With boolean\n",
        "def findSmallestSetOfVertices2(n, edges):\n",
        "        VistedArr = [False] * n\n",
        "        for first,last in edges:\n",
        "            if VistedArr[last] is False:\n",
        "                VistedArr[last] = True\n",
        "        result=[]\n",
        "        for x in range(n):\n",
        "          if VistedArr[x] is False:\n",
        "            result.append(x)\n",
        "        return result\n",
        "n = 6    \n",
        "edges = [[0,1],[2,1],[3,1],[1,4],[2,4]]\n",
        "print(findSmallestSetOfVertices2(n,edges))"
      ],
      "execution_count": 40,
      "outputs": [
        {
          "output_type": "stream",
          "text": [
            "[0, 2, 3, 5]\n"
          ],
          "name": "stdout"
        }
      ]
    }
  ]
}