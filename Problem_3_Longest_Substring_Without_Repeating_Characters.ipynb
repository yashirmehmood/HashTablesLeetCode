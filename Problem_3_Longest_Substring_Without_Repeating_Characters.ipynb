{
  "nbformat": 4,
  "nbformat_minor": 0,
  "metadata": {
    "colab": {
      "name": "Problem 3. Longest Substring Without Repeating Characters.ipynb",
      "provenance": [],
      "collapsed_sections": [],
      "authorship_tag": "ABX9TyOqba0ihxZWcnNj/wziu7AI",
      "include_colab_link": true
    },
    "kernelspec": {
      "name": "python3",
      "display_name": "Python 3"
    },
    "language_info": {
      "name": "python"
    }
  },
  "cells": [
    {
      "cell_type": "markdown",
      "metadata": {
        "id": "view-in-github",
        "colab_type": "text"
      },
      "source": [
        "<a href=\"https://colab.research.google.com/github/yashirmehmood/HashTablesLeetCode/blob/main/Problem_3_Longest_Substring_Without_Repeating_Characters.ipynb\" target=\"_parent\"><img src=\"https://colab.research.google.com/assets/colab-badge.svg\" alt=\"Open In Colab\"/></a>"
      ]
    },
    {
      "cell_type": "code",
      "metadata": {
        "id": "1nHzbKADFFXy",
        "colab": {
          "base_uri": "https://localhost:8080/"
        },
        "outputId": "57c12d63-9f1b-4221-823e-85f3268a4b40"
      },
      "source": [
        "#============== Problem 3. Longest Substring Without Repeating Characters ========\n",
        "# Method1   O(N^2)\n",
        "def longestUniqueSubsttr(string_): \n",
        "    n = len(string_) \n",
        "    res = 0 \n",
        "    for i in range(n):\n",
        "        visited = [False] * 128\n",
        "        for j in range(i, n):\n",
        "            ascii_=ord(string_[j])\n",
        "            if (visited[ascii_] == True):\n",
        "                break\n",
        "            else:\n",
        "                res = max(res, j - i + 1)\n",
        "                visited[ascii_] = True\n",
        "        visited[ord(string_[i])] = False\n",
        "    return res\n",
        "\n",
        "string_ = \"geeksforgeeks\"\n",
        "print(\"The input is \", string_)\n",
        "length_ = longestUniqueSubsttr(string_) \n",
        "print(\"The length of the longest \" \n",
        "      \"non-repeating character substring is \", length_)"
      ],
      "execution_count": 29,
      "outputs": [
        {
          "output_type": "stream",
          "text": [
            "The input is  geeksforgeeks\n",
            "The length of the longest non-repeating character substring is  7\n"
          ],
          "name": "stdout"
        }
      ]
    }
  ]
}