{
  "nbformat": 4,
  "nbformat_minor": 0,
  "metadata": {
    "colab": {
      "name": "Probelm 706. Design HashMap.ipynb",
      "provenance": [],
      "collapsed_sections": [],
      "authorship_tag": "ABX9TyPgCgHIGmDGFbLBk+U1ZqRR",
      "include_colab_link": true
    },
    "kernelspec": {
      "name": "python3",
      "display_name": "Python 3"
    },
    "language_info": {
      "name": "python"
    }
  },
  "cells": [
    {
      "cell_type": "markdown",
      "metadata": {
        "id": "view-in-github",
        "colab_type": "text"
      },
      "source": [
        "<a href=\"https://colab.research.google.com/github/yashirmehmood/HashTablesLeetCode/blob/main/Probelm_706_Design_HashMap.ipynb\" target=\"_parent\"><img src=\"https://colab.research.google.com/assets/colab-badge.svg\" alt=\"Open In Colab\"/></a>"
      ]
    },
    {
      "cell_type": "code",
      "metadata": {
        "id": "1nHzbKADFFXy",
        "outputId": "d75316ce-24af-43f2-85f8-d0586319cb8d",
        "colab": {
          "base_uri": "https://localhost:8080/"
        }
      },
      "source": [
        "#============ Probelm 706. Design HashMap ==================\n",
        "class HashTable:  \n",
        "  def __init__(self):\n",
        "      self.size = 10\n",
        "      self.array_ = [[] for i in range(self.size)]\n",
        "      \n",
        "  def get_hash(self, key):\n",
        "      hash = 0\n",
        "      for char in key:\n",
        "          hash += ord(char)\n",
        "      return hash % self.size\n",
        "  \n",
        "  def __getitem__(self, key):\n",
        "      arr_index = self.get_hash(key)\n",
        "      for childArr_ in self.array_[arr_index]:\n",
        "          if childArr_[0] == key:\n",
        "              return childArr_[1]\n",
        "      return -1\n",
        "          \n",
        "  def __setitem__(self, key, val):\n",
        "      index_ = self.get_hash(key)\n",
        "      AlreadyExist_ = False\n",
        "      for innerIndx, element in enumerate(self.array_[index_]):\n",
        "          if element[0] == key:\n",
        "              self.array_[index_][innerIndx] = (key,val)\n",
        "              AlreadyExist_ = True\n",
        "      if not AlreadyExist_:\n",
        "          self.array_[index_].append((key,val))\n",
        "      \n",
        "  def __delitem__(self, key):\n",
        "      arr_index = self.get_hash(key)\n",
        "      for innerIndx, element in enumerate(self.array_[arr_index]):\n",
        "          if element[0] == key:\n",
        "              del self.array_[arr_index][innerIndx]\n",
        "      return -1\n",
        "\n",
        "hash_ = HashTable()\n",
        "hash_[\"march 6\"] = 310\n",
        "hash_[\"march 7\"] = 420\n",
        "hash_[\"march 8\"] = 67\n",
        "hash_[\"march 17\"] = 63457\n",
        "hash_[\"march 6\"]\n",
        "print(hash_.array_)\n",
        "print(hash_['march 12'])"
      ],
      "execution_count": 27,
      "outputs": [
        {
          "output_type": "stream",
          "text": [
            "[[('march 7', 420)], [('march 8', 67)], [], [], [], [], [], [], [], [('march 6', 310), ('march 17', 63457)]]\n",
            "-1\n"
          ],
          "name": "stdout"
        }
      ]
    }
  ]
}