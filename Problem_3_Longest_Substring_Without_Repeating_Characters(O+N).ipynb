{
  "nbformat": 4,
  "nbformat_minor": 0,
  "metadata": {
    "colab": {
      "name": "Problem 3. Longest Substring Without Repeating Characters(O+N).ipynb",
      "provenance": [],
      "collapsed_sections": [],
      "authorship_tag": "ABX9TyO2NAO9/UT6JJjT1JnrF6hI",
      "include_colab_link": true
    },
    "kernelspec": {
      "name": "python3",
      "display_name": "Python 3"
    },
    "language_info": {
      "name": "python"
    }
  },
  "cells": [
    {
      "cell_type": "markdown",
      "metadata": {
        "id": "view-in-github",
        "colab_type": "text"
      },
      "source": [
        "<a href=\"https://colab.research.google.com/github/yashirmehmood/HashTablesLeetCode/blob/main/Problem_3_Longest_Substring_Without_Repeating_Characters(O%2BN).ipynb\" target=\"_parent\"><img src=\"https://colab.research.google.com/assets/colab-badge.svg\" alt=\"Open In Colab\"/></a>"
      ]
    },
    {
      "cell_type": "code",
      "metadata": {
        "id": "1nHzbKADFFXy",
        "colab": {
          "base_uri": "https://localhost:8080/"
        },
        "outputId": "4881540b-4e83-4a75-e363-b2a8cece1f4a"
      },
      "source": [
        "#============== Problem 3. Longest Substring Without Repeating Characters ========\n",
        "# Method2   O(N+d)\n",
        "def longestUniqueSubsttr(string):\n",
        "    array_ = [-1] * 128\n",
        "    n = len(string)\n",
        "    res = 0\n",
        "    i = 0\n",
        "    for j in range(0, n):\n",
        "        ascii_=ord(string[j])\n",
        "        i = max(i, array_[ascii_] + 1)\n",
        "        res =  max(res, j - i + 1)\n",
        "        array_[ascii_] = j\n",
        "    return res \n",
        "\n",
        "string = \"planning\"\n",
        "print (\"The input string is \" + string) \n",
        "length = longestUniqueSubsttr(string) \n",
        "print (\"The length of the longest non-repeating character\" +\n",
        "       \" substring is \" + str(length)) "
      ],
      "execution_count": 30,
      "outputs": [
        {
          "output_type": "stream",
          "text": [
            "The input string is planning\n",
            "The length of the longest non-repeating character substring is 4\n"
          ],
          "name": "stdout"
        }
      ]
    }
  ]
}