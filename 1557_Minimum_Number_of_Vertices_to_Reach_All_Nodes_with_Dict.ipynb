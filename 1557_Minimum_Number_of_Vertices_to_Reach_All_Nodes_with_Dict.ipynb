{
  "nbformat": 4,
  "nbformat_minor": 0,
  "metadata": {
    "colab": {
      "name": "1557. Minimum Number of Vertices to Reach All Nodes with Dict.ipynb",
      "provenance": [],
      "collapsed_sections": [],
      "authorship_tag": "ABX9TyNmLFwtTANCxuDbODZ3UZUh",
      "include_colab_link": true
    },
    "kernelspec": {
      "name": "python3",
      "display_name": "Python 3"
    },
    "language_info": {
      "name": "python"
    }
  },
  "cells": [
    {
      "cell_type": "markdown",
      "metadata": {
        "id": "view-in-github",
        "colab_type": "text"
      },
      "source": [
        "<a href=\"https://colab.research.google.com/github/yashirmehmood/HashTablesLeetCode/blob/main/1557_Minimum_Number_of_Vertices_to_Reach_All_Nodes_with_Dict.ipynb\" target=\"_parent\"><img src=\"https://colab.research.google.com/assets/colab-badge.svg\" alt=\"Open In Colab\"/></a>"
      ]
    },
    {
      "cell_type": "code",
      "metadata": {
        "id": "1nHzbKADFFXy",
        "colab": {
          "base_uri": "https://localhost:8080/"
        },
        "outputId": "85076609-6e08-477b-f1e0-980a081dc86a"
      },
      "source": [
        "#============== 1557. Minimum Number of Vertices to Reach All Nodes ========\n",
        "# Method 1 With dictonary\n",
        "def findSmallestSetOfVertices(n, edges):\n",
        "    dic = {}\n",
        "    for start , end in edges:\n",
        "        dic[end] = 1\n",
        "    res = []\n",
        "    for i in range(n):\n",
        "        if i not in dic:\n",
        "            res.append(i)\n",
        "    return res\n",
        "n = 6    \n",
        "edges = [[0,1],[0,2],[2,5],[3,4],[4,2]]\n",
        "print(findSmallestSetOfVertices(n,edges))"
      ],
      "execution_count": 39,
      "outputs": [
        {
          "output_type": "stream",
          "text": [
            "[0, 3]\n"
          ],
          "name": "stdout"
        }
      ]
    }
  ]
}