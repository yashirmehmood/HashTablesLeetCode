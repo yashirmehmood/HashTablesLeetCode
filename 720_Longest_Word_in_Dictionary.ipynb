{
  "nbformat": 4,
  "nbformat_minor": 0,
  "metadata": {
    "colab": {
      "name": "720. Longest Word in Dictionary.ipynb",
      "provenance": [],
      "collapsed_sections": [],
      "authorship_tag": "ABX9TyN9mFRBcjOxqnV4CR3MevRc",
      "include_colab_link": true
    },
    "kernelspec": {
      "name": "python3",
      "display_name": "Python 3"
    },
    "language_info": {
      "name": "python"
    }
  },
  "cells": [
    {
      "cell_type": "markdown",
      "metadata": {
        "id": "view-in-github",
        "colab_type": "text"
      },
      "source": [
        "<a href=\"https://colab.research.google.com/github/yashirmehmood/HashTablesLeetCode/blob/main/720_Longest_Word_in_Dictionary.ipynb\" target=\"_parent\"><img src=\"https://colab.research.google.com/assets/colab-badge.svg\" alt=\"Open In Colab\"/></a>"
      ]
    },
    {
      "cell_type": "code",
      "metadata": {
        "id": "1nHzbKADFFXy",
        "colab": {
          "base_uri": "https://localhost:8080/"
        },
        "outputId": "711291d3-f92c-478a-bc8c-cd226971c6c7"
      },
      "source": [
        "#============== 720. Longest Word in Dictionary ========\n",
        "def longestWord(words):\n",
        "        wset = set(words)\n",
        "        res = \"\"\n",
        "        for w in words:\n",
        "            isIn = True\n",
        "            for i in range(1, len(w)):\n",
        "                if w[:i] not in wset:\n",
        "                    isIn = False\n",
        "                    break\n",
        "            if isIn:\n",
        "                if not res or len(w) > len(res):\n",
        "                    res = w\n",
        "                elif len(w) == len(res) and res > w:\n",
        "                    res = w\n",
        "        return res\n",
        "\n",
        "words = [\"a\", \"banana\", \"app\", \"appl\", \"ap\", \"apply\", \"apple\",\"apple\"]\n",
        "print(longestWord(words))"
      ],
      "execution_count": 31,
      "outputs": [
        {
          "output_type": "stream",
          "text": [
            "apple\n"
          ],
          "name": "stdout"
        }
      ]
    }
  ]
}