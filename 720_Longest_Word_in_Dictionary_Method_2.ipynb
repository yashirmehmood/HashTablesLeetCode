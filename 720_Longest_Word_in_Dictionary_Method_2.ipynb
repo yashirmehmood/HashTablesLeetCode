{
  "nbformat": 4,
  "nbformat_minor": 0,
  "metadata": {
    "colab": {
      "name": "720. Longest Word in Dictionary Method 2.ipynb",
      "provenance": [],
      "collapsed_sections": [],
      "authorship_tag": "ABX9TyPRYzok4JsgT46ZuwFSapwb",
      "include_colab_link": true
    },
    "kernelspec": {
      "name": "python3",
      "display_name": "Python 3"
    },
    "language_info": {
      "name": "python"
    }
  },
  "cells": [
    {
      "cell_type": "markdown",
      "metadata": {
        "id": "view-in-github",
        "colab_type": "text"
      },
      "source": [
        "<a href=\"https://colab.research.google.com/github/yashirmehmood/HashTablesLeetCode/blob/main/720_Longest_Word_in_Dictionary_Method_2.ipynb\" target=\"_parent\"><img src=\"https://colab.research.google.com/assets/colab-badge.svg\" alt=\"Open In Colab\"/></a>"
      ]
    },
    {
      "cell_type": "code",
      "metadata": {
        "id": "1nHzbKADFFXy",
        "colab": {
          "base_uri": "https://localhost:8080/"
        },
        "outputId": "3a8ee7f7-c96f-40df-8910-f4aa5470a014"
      },
      "source": [
        "def longestWord(words):\n",
        "        words.sort()\n",
        "        res = set([''])\n",
        "        longestWord = ''\n",
        "        for word in words:\n",
        "            if word[:-1] in res:\n",
        "                res.add(word)\n",
        "                if len(word) > len(longestWord):\n",
        "                    longestWord = word\n",
        "        return longestWord\n",
        "words = [\"a\", \"banana\", \"app\", \"appl\", \"ap\", \"apply\", \"apple\",\"apple\"]\n",
        "print(longestWord(words))"
      ],
      "execution_count": 32,
      "outputs": [
        {
          "output_type": "stream",
          "text": [
            "apple\n"
          ],
          "name": "stdout"
        }
      ]
    }
  ]
}