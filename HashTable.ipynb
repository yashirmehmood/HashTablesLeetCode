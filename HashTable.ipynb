{
  "nbformat": 4,
  "nbformat_minor": 0,
  "metadata": {
    "colab": {
      "name": "HashTable.ipynb",
      "provenance": [],
      "collapsed_sections": [],
      "authorship_tag": "ABX9TyNmwnkoDTVWM42llpge58VQ",
      "include_colab_link": true
    },
    "kernelspec": {
      "name": "python3",
      "display_name": "Python 3"
    },
    "language_info": {
      "name": "python"
    }
  },
  "cells": [
    {
      "cell_type": "markdown",
      "metadata": {
        "id": "view-in-github",
        "colab_type": "text"
      },
      "source": [
        "<a href=\"https://colab.research.google.com/github/yashirmehmood/HashTablesLeetCode/blob/main/HashTable.ipynb\" target=\"_parent\"><img src=\"https://colab.research.google.com/assets/colab-badge.svg\" alt=\"Open In Colab\"/></a>"
      ]
    },
    {
      "cell_type": "code",
      "metadata": {
        "id": "1nHzbKADFFXy"
      },
      "source": [
        "class HashTable(object):\n",
        "  def __init__(self):\n",
        "    self.size = 10\n",
        "    self.keys = [None] * self.size\n",
        "    self.values = [None] * self.size\n",
        "\n",
        "\n",
        "  def put(self, key, data): #how to insert key-value pair\n",
        "    index = self.hashfunction(key) # generate array index\n",
        "    # not None -> it is a collision !!! either chain or open address\n",
        "    #hash function will arrange key and tranform in array position\n",
        "    while self.keys[index] is not None:\t#not empty then insert\n",
        "      if self.keys[index] == key: # find empty slot means same key has been inserted\n",
        "        self.values[index] = data # update and then generate next index\n",
        "        return\n",
        "      # rehash try to find another slot.\n",
        "      index = (index+1)%self.size\n",
        "    # insert the key and data after above\n",
        "    self.keys[index] = key\n",
        "    self.values[index] = data\n",
        "\n",
        "\n",
        "  def get(self,key): #if we know key then how to get value\n",
        "    index = self.hashfunction(key) #genertae index with hash function\n",
        "    while self.keys[index] is not None:\n",
        "      if self.keys[index] == key: #found item looking for then return\n",
        "        return self.values[index]\n",
        "      index = (index+1)%self.size #consider next index. increment by 1 shofted may be collision\n",
        "    # it means the key is not present in the associative array\n",
        "    return None\n",
        "# going to get a key and tansform given key into array index\n",
        "#key-value pair in one-dimensional array\n",
        "\n",
        "\n",
        "  def hashfunction(self, key): # going to see what is hash function\n",
        "    sum = 0\n",
        "    for pos in range(len(key)):\n",
        "      sum = sum + ord(key[pos]) #characters into integer of array index\n",
        "    return sum%self.size # to obtain a correct index and not 20 when 10 array index"
      ],
      "execution_count": 26,
      "outputs": []
    }
  ]
}